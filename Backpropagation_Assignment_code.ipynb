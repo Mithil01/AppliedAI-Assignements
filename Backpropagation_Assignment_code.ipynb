{
  "nbformat": 4,
  "nbformat_minor": 0,
  "metadata": {
    "colab": {
      "provenance": [],
      "collapsed_sections": [],
      "include_colab_link": true
    },
    "kernelspec": {
      "display_name": "Python 3",
      "language": "python",
      "name": "python3"
    },
    "language_info": {
      "codemirror_mode": {
        "name": "ipython",
        "version": 3
      },
      "file_extension": ".py",
      "mimetype": "text/x-python",
      "name": "python",
      "nbconvert_exporter": "python",
      "pygments_lexer": "ipython3",
      "version": "3.6.3"
    }
  },
  "cells": [
    {
      "cell_type": "markdown",
      "metadata": {
        "id": "view-in-github",
        "colab_type": "text"
      },
      "source": [
        "<a href=\"https://colab.research.google.com/github/Mithil01/AppliedAI-Assignments/blob/main/Backpropagation_Assignment_code.ipynb\" target=\"_parent\"><img src=\"https://colab.research.google.com/assets/colab-badge.svg\" alt=\"Open In Colab\"/></a>"
      ]
    },
    {
      "cell_type": "markdown",
      "metadata": {
        "id": "y871RZtRhCEH"
      },
      "source": [
        "# <font color='red'>Backpropagation</font>"
      ]
    },
    {
      "cell_type": "markdown",
      "metadata": {
        "id": "0huUQ0byiI0I"
      },
      "source": [
        "## <font color='red'>Loading data </font>"
      ]
    },
    {
      "cell_type": "code",
      "metadata": {
        "id": "1hSje5CBgcUb",
        "colab": {
          "base_uri": "https://localhost:8080/"
        },
        "outputId": "f0409ecb-0a97-4a1a-fa51-e10d55af757e"
      },
      "source": [
        "import pickle\n",
        "import numpy as np\n",
        "from tqdm import tqdm\n",
        "import matplotlib.pyplot as plt\n",
        "\n",
        "with open('data.pkl', 'rb') as f:\n",
        "    data = pickle.load(f)\n",
        "print(data.shape)\n",
        "X = data[:, :5]\n",
        "y = data[:, -1]\n",
        "print(X.shape, y.shape)"
      ],
      "execution_count": null,
      "outputs": [
        {
          "output_type": "stream",
          "name": "stdout",
          "text": [
            "(506, 6)\n",
            "(506, 5) (506,)\n"
          ]
        }
      ]
    },
    {
      "cell_type": "markdown",
      "metadata": {
        "id": "5JL-0soQistC"
      },
      "source": [
        "# <font color='red'>Computational graph</font>"
      ]
    },
    {
      "cell_type": "markdown",
      "metadata": {
        "id": "nREnTTJ3i0Vd"
      },
      "source": [
        "<img src='https://i.imgur.com/seSGbNS.png'>"
      ]
    },
    {
      "cell_type": "markdown",
      "metadata": {
        "id": "DSPX_H_4i_HT"
      },
      "source": [
        "\n",
        "*  **If you observe the graph, we are having input features [f1, f2, f3, f4, f5] and 9 weights [w1, w2, w3, w4, w5, w6,    w7, w8, w9]**.<br><br>\n",
        "*  **The final output of this graph is a value L which is computed as (Y-Y')^2** "
      ]
    },
    {
      "cell_type": "markdown",
      "metadata": {
        "id": "D54eDEv6jkO4"
      },
      "source": [
        "## <font color='red'>Task 1: Implementing Forward propagation, Backpropagation and Gradient checking </font>"
      ]
    },
    {
      "cell_type": "markdown",
      "metadata": {
        "id": "xyWK94o_fTKH"
      },
      "source": [
        "# <font color='red'>Task 1.1 </font>"
      ]
    },
    {
      "cell_type": "markdown",
      "metadata": {
        "id": "RwEcPWLffTKI"
      },
      "source": [
        "## <font color='blue'>Forward propagation </font>"
      ]
    },
    {
      "cell_type": "markdown",
      "metadata": {
        "id": "FCZrm-gkfTKI"
      },
      "source": [
        "\n",
        "*  <b>\n",
        "    For easy debugging, we will break the computational graph into 3 parts.\n",
        "\n",
        "    <font color='green'><b>Part 1</b></font></b>\n",
        "    <img src='https://i.imgur.com/0xUaxy6.png'><br><br>\n",
        "    <font color='green'><b>Part 2</b></font></b><br>\n",
        "    <img src='https://i.imgur.com/J29pAJL.png'><br><br>\n",
        "    <font color='green'><b>Part 3</b></font></b>\n",
        "    <img src='https://i.imgur.com/vMyCsd9.png'>"
      ]
    },
    {
      "cell_type": "code",
      "metadata": {
        "id": "ADCovl2FfTKJ"
      },
      "source": [
        "def sigmoid(z):\n",
        "    '''In this function, we will compute the sigmoid(z)'''\n",
        "    sig_z = 1/(1+np.exp(-z))\n",
        "    return sig_z"
      ],
      "execution_count": null,
      "outputs": []
    },
    {
      "cell_type": "code",
      "metadata": {
        "id": "dLJ-OYwefTKJ",
        "colab": {
          "base_uri": "https://localhost:8080/"
        },
        "outputId": "03e00229-e155-4894-996f-99ab9818b7a8"
      },
      "source": [
        "def grader_sigmoid(z):\n",
        "  val=sigmoid(z)\n",
        "  assert(val==0.8807970779778823)\n",
        "  return True\n",
        "grader_sigmoid(2)"
      ],
      "execution_count": null,
      "outputs": [
        {
          "output_type": "execute_result",
          "data": {
            "text/plain": [
              "True"
            ]
          },
          "metadata": {},
          "execution_count": 4
        }
      ]
    },
    {
      "cell_type": "code",
      "metadata": {
        "id": "KD3piNkifTKJ"
      },
      "source": [
        "def forward_propagation(x, y, w):\n",
        "        '''In this function, we will compute the forward propagation '''\n",
        "        # X: input data point, note that in this assignment you are having 5-d data points\n",
        "        # y: output varible\n",
        "        # W: weight array, its of length 9, W[0] corresponds to w1 in graph, W[1] corresponds to w2 in graph,..., W[8] corresponds to w9 in graph.  \n",
        "        \n",
        "        val_1= (w[0]*x[0]+w[1]*x[1]) * (w[0]*x[0]+w[1]*x[1]) + w[5]\n",
        "        part1 = np.exp(val_1)\n",
        "\n",
        "        part2 = np.tanh(part1 + w[6])\n",
        "\n",
        "        part3 = (np.sin(w[2]*x[2]) * (w[3]*x[3] + w[4]*x[4]) ) + w[7]\n",
        "        part3 = sigmoid(part3)\n",
        "\n",
        "        y_pred = part2 + (part3 * w[8])\n",
        "\n",
        "        loss = (y - y_pred)**2\n",
        "\n",
        "        dy_pred= -2*(y - y_pred)\n",
        "        \n",
        "        # we will be using the dictionary to find values in backpropagation, you can add other keys in dictionary as well\n",
        "        \n",
        "        f_dict={}\n",
        "        f_dict['exp']= part1\n",
        "        f_dict['sigmoid'] = part3\n",
        "        f_dict['tanh'] = part2\n",
        "        f_dict['loss'] = loss\n",
        "        f_dict['y_pred'] = y_pred\n",
        "        f_dict['dy_pred'] = dy_pred\n",
        "        \n",
        "        return f_dict"
      ],
      "execution_count": null,
      "outputs": []
    },
    {
      "cell_type": "code",
      "metadata": {
        "id": "vP0iV7f4fTKK",
        "colab": {
          "base_uri": "https://localhost:8080/"
        },
        "outputId": "f1f78048-1107-4433-dbd2-2fcf91f5603e"
      },
      "source": [
        "def grader_forwardprop(data):\n",
        "    d1 = (data['dy_pred']==-1.9285278284819143)\n",
        "    loss=(data['loss']==0.9298048963072919)\n",
        "    part1=(data['exp']==1.1272967040973583)\n",
        "    part2=(data['tanh']==0.8417934192562146)\n",
        "    part3=(data['sigmoid']==0.5279179387419721)\n",
        "    assert(d1 and loss and part1 and part2 and part3)\n",
        "    return True\n",
        "w=np.ones(9)*0.1\n",
        "d1=forward_propagation(X[0],y[0],w)\n",
        "grader_forwardprop(d1)"
      ],
      "execution_count": null,
      "outputs": [
        {
          "output_type": "execute_result",
          "data": {
            "text/plain": [
              "True"
            ]
          },
          "metadata": {},
          "execution_count": 6
        }
      ]
    },
    {
      "cell_type": "markdown",
      "metadata": {
        "id": "2zcQmvkvfTKL"
      },
      "source": [
        "# <font color='red'>Task 1.2 </font>"
      ]
    },
    {
      "cell_type": "markdown",
      "metadata": {
        "id": "4YVYD18xfTKL"
      },
      "source": [
        "## <font color='blue'>Backward propagation</font>"
      ]
    },
    {
      "cell_type": "code",
      "metadata": {
        "id": "Ld1PMQtffTKL"
      },
      "source": [
        "def backward_propagation(x,y,w,f_dict):\n",
        "    '''In this function, we will compute the backward propagation '''\n",
        "    # forward_dict: the outputs of the forward_propagation() function\n",
        "    dy_pred, sigmoid, tanh, exp = f_dict['dy_pred'],f_dict['sigmoid'],f_dict['tanh'],f_dict['exp']\n",
        "\n",
        "    dw9 = dy_pred * sigmoid\n",
        "    dw8 = dy_pred * (sigmoid * (1 - sigmoid)) * w[8]\n",
        "    dw7 = dy_pred * (1 - (tanh)**2)\n",
        "    dw6 = dw7 * exp\n",
        "    dw5 = dw8 * np.sin(w[2]*x[2]) * x[4]\n",
        "    dw4 = dw8 * np.sin(w[2]*x[2]) * x[3]\n",
        "    dw3 = dw8 * ((w[3]*x[3])+(w[4]*x[4])) * np.cos(x[2]*w[2]) * x[2]\n",
        "    dw2 = dw6 * 2 * ((w[0]*x[0])+(w[1]*x[1])) * x[1]\n",
        "    dw1 = dw6 * 2 * ((w[0]*x[0])+(w[1]*x[1])) * x[0]\n",
        "    \n",
        "    #store the variables dw1,dw2 etc. in a dict as backward_dict['dw1']= dw1,backward_dict['dw2']= dw2...\n",
        "    b_dict={}\n",
        "    b_dict['dw1'] = dw1\n",
        "    b_dict['dw2'] = dw2\n",
        "    b_dict['dw3'] = dw3\n",
        "    b_dict['dw4'] = dw4\n",
        "    b_dict['dw5'] = dw5\n",
        "    b_dict['dw6'] = dw6\n",
        "    b_dict['dw7'] = dw7\n",
        "    b_dict['dw8'] = dw8\n",
        "    b_dict['dw9'] = dw9\n",
        "\n",
        "    return b_dict"
      ],
      "execution_count": null,
      "outputs": []
    },
    {
      "cell_type": "code",
      "metadata": {
        "id": "0ipQbNXOfTKM",
        "colab": {
          "base_uri": "https://localhost:8080/"
        },
        "outputId": "14e70c9f-4c43-4d0f-caaf-6af6d919d099"
      },
      "source": [
        "def grader_backprop(data):\n",
        "    dw1=(np.round(data['dw1'],6)==-0.229733)\n",
        "    dw2=(np.round(data['dw2'],6)==-0.021408)\n",
        "    dw3=(np.round(data['dw3'],6)==-0.005625)\n",
        "    dw4=(np.round(data['dw4'],6)==-0.004658)\n",
        "    dw5=(np.round(data['dw5'],6)==-0.001008)\n",
        "    dw6=(np.round(data['dw6'],6)==-0.633475)\n",
        "    dw7=(np.round(data['dw7'],6)==-0.561942)\n",
        "    dw8=(np.round(data['dw8'],6)==-0.048063)\n",
        "    dw9=(np.round(data['dw9'],6)==-1.018104)\n",
        "    assert(dw1 and dw2 and dw3 and dw4 and dw5 and dw6 and dw7 and dw8 and dw9)\n",
        "    return True \n",
        "w=np.ones(9)*0.1\n",
        "forward_dict=forward_propagation(X[0],y[0],w)\n",
        "backward_dict=backward_propagation(X[0],y[0],w,forward_dict)\n",
        "grader_backprop(backward_dict)"
      ],
      "execution_count": null,
      "outputs": [
        {
          "output_type": "execute_result",
          "data": {
            "text/plain": [
              "True"
            ]
          },
          "metadata": {},
          "execution_count": 65
        }
      ]
    },
    {
      "cell_type": "markdown",
      "metadata": {
        "id": "RlR1JVN5fTKM"
      },
      "source": [
        "# <font color='red'>Task 1.3 </font>"
      ]
    },
    {
      "cell_type": "markdown",
      "metadata": {
        "id": "STS4NrQQc6OH"
      },
      "source": [
        " ## <font color='blue'>Gradient clipping</font>"
      ]
    },
    {
      "cell_type": "markdown",
      "metadata": {
        "id": "XY7ivRNzdPok"
      },
      "source": [
        "<b> Check this  <a href='https://towardsdatascience.com/how-to-debug-a-neural-network-with-gradient-checking-41deec0357a9'>blog link</a> for more details on Gradient clipping"
      ]
    },
    {
      "cell_type": "markdown",
      "metadata": {
        "id": "BrsfpDoidtZ5"
      },
      "source": [
        " we know that the derivative of any function is\n",
        " \n",
        " $$\\lim_{\\epsilon\\to0}\\frac{f(x+\\epsilon)-f(x-\\epsilon)}{2\\epsilon}$$\n"
      ]
    },
    {
      "cell_type": "markdown",
      "metadata": {
        "id": "vUcmt0kPd02f"
      },
      "source": [
        "*  The definition above can be used as a numerical approximation of the derivative. Taking an epsilon small enough, the calculated approximation will have an error in the range of epsilon squared. \n",
        "\n",
        "*  In other words, if epsilon is 0.001, the approximation will be off by 0.00001.\n",
        "\n",
        "Therefore, we can use this to approximate the gradient, and in turn make sure that backpropagation is implemented properly. This forms the basis of <b>gradient checking!</b>"
      ]
    },
    {
      "cell_type": "code",
      "metadata": {
        "id": "XBoJRqAwfTKO"
      },
      "source": [
        "def gradient_checking(x,y,w,eps):\n",
        "    # compute the dict value using forward_propagation()\n",
        "    forward_dict=forward_propagation(x,y,w)\n",
        "    # compute the actual gradients of W using backword_propagation()\n",
        "    backward_dict=backward_propagation(x,y,w,forward_dict)\n",
        "    \n",
        "    #storing the original gradients for the given datapoints in a list\n",
        "    original_gradients_list=list(backward_dict.values())\n",
        "    \n",
        "    approx_gradients_list=[]\n",
        "    wts = w\n",
        "    \n",
        "    for i in range(len(w)):\n",
        "      w = [ 0.00271756,  0.01260512,  0.00167639, -0.00207756,  0.00720768,\n",
        "            0.00114524,  0.00684168,  0.02242521,  0.01296444]\n",
        "      w[i] = wts[i] + eps\n",
        "      f_dict = forward_propagation(x,y,w)\n",
        "      loss_f1 = f_dict[\"loss\"]\n",
        "      w[i] = wts[i] - eps\n",
        "      f_dict2 = forward_propagation(x,y,w)\n",
        "      loss_f2 = f_dict2[\"loss\"]\n",
        "      approx = (loss_f1-loss_f2)/(2*eps)\n",
        "      approx_gradients_list.append(approx)\n",
        "\n",
        "    #performing gradient check operation\n",
        "    original_gradients_list=np.array(original_gradients_list)\n",
        "    approx_gradients_list=np.array(approx_gradients_list)\n",
        "    gradient_check_value = (original_gradients_list - approx_gradients_list)/(original_gradients_list + approx_gradients_list)\n",
        "\n",
        "    return gradient_check_value\n",
        "    \n",
        "    "
      ],
      "execution_count": null,
      "outputs": []
    },
    {
      "cell_type": "code",
      "source": [],
      "metadata": {
        "id": "2zdjgf9zJY03"
      },
      "execution_count": null,
      "outputs": []
    },
    {
      "cell_type": "code",
      "metadata": {
        "id": "aWSU56GffTKO",
        "colab": {
          "base_uri": "https://localhost:8080/"
        },
        "outputId": "6f19f3f4-d840-4439-aa80-8a776c4c61b1"
      },
      "source": [
        "def grader_grad_check(value):\n",
        "    print(value) \n",
        "    assert(np.all(value <= 10**-3))\n",
        "    return True \n",
        "\n",
        "w=[ 0.00271756,  0.01260512,  0.00167639, -0.00207756,  0.00720768,\n",
        "    0.00114524,  0.00684168,  0.02242521,  0.01296444]\n",
        "eps=10**-7\n",
        "\n",
        "value= gradient_checking(X[0],y[0],w,eps)\n",
        "grader_grad_check(value)"
      ],
      "execution_count": null,
      "outputs": [
        {
          "output_type": "stream",
          "name": "stdout",
          "text": [
            "[-1.73921918e-08  1.63713365e-06  5.73356054e-05  3.77243270e-05\n",
            " -1.95446016e-04 -1.16536595e-10 -3.79907639e-10 -1.06774471e-07\n",
            " -7.02865325e-10]\n"
          ]
        },
        {
          "output_type": "execute_result",
          "data": {
            "text/plain": [
              "True"
            ]
          },
          "metadata": {},
          "execution_count": 97
        }
      ]
    },
    {
      "cell_type": "markdown",
      "metadata": {
        "id": "0ufbFBFfhgL0"
      },
      "source": [
        "# <font color='red'> Task 2 : Optimizers </font>"
      ]
    },
    {
      "cell_type": "markdown",
      "metadata": {
        "id": "7zt05soYh1RM"
      },
      "source": [
        "* As a part of this task, you will be implementing 2  optimizers(methods to update weight)\n",
        "* Use the same computational graph that was mentioned above to do this task\n",
        "* The weights have been initialized from normal distribution with mean=0 and std=0.01. The initialization of weights is very important otherwiswe you can face vanishing gradient and exploding gradients problem."
      ]
    },
    {
      "cell_type": "markdown",
      "source": [],
      "metadata": {
        "id": "RSl35jpBJfBV"
      }
    },
    {
      "cell_type": "markdown",
      "metadata": {
        "id": "jmefh7ktjbaR"
      },
      "source": [
        "<font color='blue'><b>Algorithm</b>"
      ]
    },
    {
      "cell_type": "markdown",
      "metadata": {
        "id": "nAc4NudkjdNa"
      },
      "source": [
        "<pre>\n",
        "    for each epoch(1-20):\n",
        "        for each data point in your data:\n",
        "            using the functions forward_propagation() and backword_propagation() compute the gradients of weights\n",
        "            update the weigts with help of gradients  \n",
        "</pre>"
      ]
    },
    {
      "cell_type": "markdown",
      "metadata": {
        "id": "_fdmPNqtjm3X"
      },
      "source": [
        "## <font color='red'> Implement below tasks</b>"
      ]
    },
    {
      "cell_type": "markdown",
      "metadata": {
        "id": "Ll9-CRsLjx_D"
      },
      "source": [
        "\n",
        "*  <b>Task 2.1</b>: will be implementing the above algorithm with <b>Vanilla update</b> of weights<br><br>\n",
        "*  <b>Task 2.2</b>: will be implementing the above algorithm with <b>Momentum update</b> of weights<br><br>\n",
        "*  <b>Task 2.3</b>: will be implementing the above algorithm with <b>Adam update</b> of weights<br><br>\n"
      ]
    },
    {
      "cell_type": "markdown",
      "metadata": {
        "id": "cv_hZFWalS2z"
      },
      "source": [
        "### <font color='blue'>2.1 Algorithm with Vanilla update of weights</font>"
      ]
    },
    {
      "cell_type": "code",
      "metadata": {
        "id": "KlVuEsRjQoW5"
      },
      "source": [
        "from sklearn.metrics import mean_squared_error \n",
        "rate=.001\n",
        "mean, std = 0, 0.01 \n",
        "w = np.random.normal(mean, std, 9) "
      ],
      "execution_count": null,
      "outputs": []
    },
    {
      "cell_type": "code",
      "source": [
        "vanilla_loss=[]\n",
        "vanilla_epoch=[]\n",
        "for epoch in range(50):\n",
        "  vanilla_epoch.append(epoch)\n",
        "  y_pred=[]\n",
        "  for point in range(len(data)):\n",
        "    f_dict=forward_propagation(X[point], y[point], w)\n",
        "    y_pred.append(f_dict['y_pred'])\n",
        "    b_dict=backward_propagation(X[point],y[point],w,f_dict)\n",
        "    w[8]=w[8]-rate*b_dict[\"dw9\"]\n",
        "    w[7]=w[7]-rate*b_dict[\"dw8\"]\n",
        "    w[6]=w[1]-rate*b_dict[\"dw7\"]\n",
        "    w[5]=w[2]-rate*b_dict[\"dw6\"]\n",
        "    w[4]=w[3]-rate*b_dict[\"dw5\"]\n",
        "    w[3]=w[4]-rate*b_dict[\"dw4\"]\n",
        "    w[2]=w[5]-rate*b_dict[\"dw3\"]\n",
        "    w[1]=w[6]-rate*b_dict[\"dw2\"]\n",
        "    w[0]=w[7]-rate*b_dict[\"dw1\"]\n",
        "  mse =mean_squared_error(y,y_pred) \n",
        "  vanilla_loss.append(mse)"
      ],
      "metadata": {
        "id": "g58AriScFVwo"
      },
      "execution_count": null,
      "outputs": []
    },
    {
      "cell_type": "code",
      "metadata": {
        "id": "HuDaxRnCQoW5",
        "colab": {
          "base_uri": "https://localhost:8080/",
          "height": 531
        },
        "outputId": "11610bc1-7dba-4618-8994-81fb3993bbb0"
      },
      "source": [
        "%matplotlib inline\n",
        "import matplotlib.pyplot as plt\n",
        "plt.figure(figsize=(10,8))\n",
        "plt.grid()\n",
        "plt.plot(vanilla_epoch,vanilla_loss, label=' Vanilla loss')\n",
        "plt.title(\"epoch vs Vanilla loss\")\n",
        "plt.xlabel(\"epoch_number\")\n",
        "plt.ylabel(\"Vanilla loss\")\n",
        "plt.legend()"
      ],
      "execution_count": null,
      "outputs": [
        {
          "output_type": "execute_result",
          "data": {
            "text/plain": [
              "<matplotlib.legend.Legend at 0x7f452039f410>"
            ]
          },
          "metadata": {},
          "execution_count": 101
        },
        {
          "output_type": "display_data",
          "data": {
            "text/plain": [
              "<Figure size 720x576 with 1 Axes>"
            ],
            "image/png": "[encoded data removed]"
          },
          "metadata": {
            "needs_background": "light"
          }
        }
      ]
    },
    {
      "cell_type": "markdown",
      "metadata": {
        "id": "V4RWWrZ7lWap"
      },
      "source": [
        "### <font color='blue'>2.2 Algorithm with Momentum update of weights</font>"
      ]
    },
    {
      "cell_type": "markdown",
      "metadata": {
        "id": "oM2BAasL6zz4"
      },
      "source": [
        "<img src='https://i.imgur.com/gyPSXhS.png'>"
      ]
    },
    {
      "cell_type": "markdown",
      "metadata": {
        "id": "2iCc4sIE-4A-"
      },
      "source": [
        "Here Gamma referes to the momentum coefficient, eta is leaning rate and v_t is moving average of our gradients at timestep t"
      ]
    },
    {
      "cell_type": "markdown",
      "metadata": {
        "id": "-KTmDomaQoW5"
      },
      "source": []
    },
    {
      "cell_type": "code",
      "source": [
        "from sklearn.metrics import mean_squared_error \n",
        "rate= 0.001\n",
        "mean, std = 0, 0.01 \n",
        "beta = 0.9\n",
        "m = np.zeros(9)\n",
        "w = np.random.normal(mean, std, 9) "
      ],
      "metadata": {
        "id": "kWhMogY0Isaf"
      },
      "execution_count": null,
      "outputs": []
    },
    {
      "cell_type": "code",
      "source": [
        "mom_update_loss=[]\n",
        "mom_update_epoch=[]\n",
        "for epoch in range(50):\n",
        "  mom_update_epoch.append(epoch)\n",
        "  y_pred=[]\n",
        "  for point in range(len(data)):\n",
        "    f_dict=forward_propagation(X[point], y[point], w)\n",
        "    y_pred.append(f_dict['y_pred'])\n",
        "    b_dict=backward_propagation(X[point],y[point],w,f_dict)\n",
        "    m[8] = beta*m[8] + (1-beta)*(b_dict[\"dw9\"])\n",
        "    w[8]=w[8]-rate*m[8]\n",
        "\n",
        "    m[7] = beta*m[7] + (1-beta)*(b_dict[\"dw8\"])\n",
        "    w[7]=w[7]-rate*m[7]\n",
        "\n",
        "    m[6] = beta*m[8] + (1-beta)*(b_dict[\"dw7\"])\n",
        "    w[6]=w[1]-rate*m[6]\n",
        "\n",
        "    m[5] = beta*m[8] + (1-beta)*(b_dict[\"dw6\"])\n",
        "    w[5]=w[2]-rate*m[5]\n",
        "\n",
        "    m[4] = beta*m[8] + (1-beta)*(b_dict[\"dw5\"])\n",
        "    w[4]=w[3]-rate*m[4]\n",
        "\n",
        "    m[3] = beta*m[8] + (1-beta)*(b_dict[\"dw4\"])\n",
        "    w[3]=w[4]-rate*m[3]\n",
        "\n",
        "    m[8] = beta*m[8] + (1-beta)*(b_dict[\"dw3\"])\n",
        "    w[2]=w[5]-rate*m[2]\n",
        "\n",
        "    m[1] = beta*m[8] + (1-beta)*(b_dict[\"dw2\"])\n",
        "    w[1]=w[6]-rate*m[1]\n",
        "\n",
        "    m[0] = beta*m[8] + (1-beta)*(b_dict[\"dw1\"])\n",
        "    w[0]=w[7]-rate*m[0]\n",
        "  mse =mean_squared_error(y,y_pred) \n",
        "  mom_update_loss.append(mse)"
      ],
      "metadata": {
        "id": "F4TmmqgfI9ND"
      },
      "execution_count": null,
      "outputs": []
    },
    {
      "cell_type": "code",
      "source": [
        "%matplotlib inline\n",
        "import matplotlib.pyplot as plt\n",
        "plt.figure(figsize=(10,8))\n",
        "plt.grid()\n",
        "plt.plot(mom_update_epoch,mom_update_loss, label='mom update loss')\n",
        "plt.title(\"epoch vs mom update loss\")\n",
        "plt.xlabel(\"epoch_number\")\n",
        "plt.ylabel(\"mom update loss\")\n",
        "plt.legend()"
      ],
      "metadata": {
        "colab": {
          "base_uri": "https://localhost:8080/",
          "height": 531
        },
        "id": "3v4domtdKWO5",
        "outputId": "3144c8ff-cacc-4386-b0b4-b3fb064e41e8"
      },
      "execution_count": null,
      "outputs": [
        {
          "output_type": "execute_result",
          "data": {
            "text/plain": [
              "<matplotlib.legend.Legend at 0x7f452031d6d0>"
            ]
          },
          "metadata": {},
          "execution_count": 104
        },
        {
          "output_type": "display_data",
          "data": {
            "text/plain": [
              "<Figure size 720x576 with 1 Axes>"
            ],
            "image/png": "[encoded data removed]"
          },
          "metadata": {
            "needs_background": "light"
          }
        }
      ]
    },
    {
      "cell_type": "markdown",
      "metadata": {
        "id": "Agtmr_lZQoW6"
      },
      "source": [
        "### <font color='blue'>2.3 Algorithm with Adam update of weights</font>"
      ]
    },
    {
      "cell_type": "markdown",
      "metadata": {
        "id": "WRYiT2KKQoW6"
      },
      "source": [
        "<img src='https://i.imgur.com/GDR8UFP.jpg'>"
      ]
    },
    {
      "cell_type": "code",
      "metadata": {
        "id": "0YffVQ2LQoW6"
      },
      "source": [
        "from sklearn.metrics import mean_squared_error \n",
        "rate= 0.001\n",
        "mean, std = 0, 0.01 \n",
        "beta1, beta2, eps = 0.8, 0.88, 1e-7\n",
        "m, v, mt, vt = np.zeros(9), np.zeros(9), np.zeros(9), np.zeros(9)\n",
        "w = np.random.normal(mean, std, 9) "
      ],
      "execution_count": null,
      "outputs": []
    },
    {
      "cell_type": "code",
      "source": [
        "adam_update_loss=[]\n",
        "adam_update_epoch=[]\n",
        "for epoch in range(50):\n",
        "  adam_update_epoch.append(epoch)\n",
        "  y_pred=[]\n",
        "  for point in range(len(data)):\n",
        "    f_dict=forward_propagation(X[point], y[point], w)\n",
        "    y_pred.append(f_dict['y_pred'])\n",
        "    b_dict=backward_propagation(X[point],y[point],w,f_dict)\n",
        "    m[8] = beta1*m[8] + (1-beta1)*(b_dict[\"dw9\"])\n",
        "    v[8] = beta2*v[8] + (1-beta2)*((b_dict[\"dw9\"])**2)\n",
        "    mt[8], vt[8] = m[8]/(1-beta1), v[8]/(1-beta2)\n",
        "    w[8]=w[8]- (rate/np.sqrt(vt[8]+eps))*mt[8]\n",
        "\n",
        "    m[7] = beta1*m[7] + (1-beta1)*(b_dict[\"dw8\"])\n",
        "    v[7] = beta2*v[7] + (1-beta2)*((b_dict[\"dw8\"])**2)\n",
        "    mt[7], vt[7] = m[7]/(1-beta1), v[7]/(1-beta2)\n",
        "    w[7] = w[7]- (rate/np.sqrt(vt[7]+eps))*mt[7]\n",
        "\n",
        "    m[6] = beta1*m[6] + (1-beta1)*(b_dict[\"dw7\"])\n",
        "    v[6] = beta2*v[6] + (1-beta2)*((b_dict[\"dw7\"])**2)\n",
        "    mt[6], vt[6] = m[6]/(1-beta1), v[6]/(1-beta2)\n",
        "    w[6] = w[6]- (rate/np.sqrt(vt[6]+eps))*mt[6]\n",
        "\n",
        "    m[5] = beta1*m[5] + (1-beta1)*(b_dict[\"dw6\"])\n",
        "    v[5] = beta2*v[5] + (1-beta2)*((b_dict[\"dw6\"])**2)\n",
        "    mt[5], vt[5] = m[5]/(1-beta1), v[5]/(1-beta2)\n",
        "    w[5] = w[5]- (rate/np.sqrt(vt[5]+eps))*mt[5]\n",
        "\n",
        "    m[4] = beta1*m[4] + (1-beta1)*(b_dict[\"dw5\"])\n",
        "    v[4] = beta2*v[4] + (1-beta2)*((b_dict[\"dw5\"])**2)\n",
        "    mt[4], vt[4] = m[4]/(1-beta1), v[4]/(1-beta2)\n",
        "    w[4] = w[4]- (rate/np.sqrt(vt[4]+eps))*mt[4]\n",
        "\n",
        "    m[3] = beta1*m[3] + (1-beta1)*(b_dict[\"dw4\"])\n",
        "    v[3] = beta2*v[3] + (1-beta2)*((b_dict[\"dw4\"])**2)\n",
        "    mt[3], vt[3] = m[3]/(1-beta1), v[3]/(1-beta2)\n",
        "    w[3] = w[3]- (rate/np.sqrt(vt[3]+eps))*mt[3]\n",
        "\n",
        "    m[2] = beta1*m[2] + (1-beta1)*(b_dict[\"dw3\"])\n",
        "    v[2] = beta2*v[2] + (1-beta2)*((b_dict[\"dw3\"])**2)\n",
        "    mt[2], vt[2] = m[2]/(1-beta1), v[2]/(1-beta2)\n",
        "    w[2] = w[2]- (rate/np.sqrt(vt[2]+eps))*mt[2]\n",
        "\n",
        "    m[1] = beta1*m[1] + (1-beta1)*(b_dict[\"dw2\"])\n",
        "    v[1] = beta2*v[1] + (1-beta2)*((b_dict[\"dw2\"])**2)\n",
        "    mt[1], vt[1] = m[1]/(1-beta1), v[1]/(1-beta2)\n",
        "    w[1] = w[1]- (rate/np.sqrt(vt[1]+eps))*mt[1]\n",
        "\n",
        "    m[0] = beta1*m[0] + (1-beta1)*(b_dict[\"dw1\"])\n",
        "    v[0] = beta2*v[0] + (1-beta2)*((b_dict[\"dw1\"])**2)\n",
        "    mt[0], vt[0] = m[0]/(1-beta1), v[0]/(1-beta2)\n",
        "    w[0] = w[0]- (rate/np.sqrt(vt[0]+eps))*mt[0]\n",
        "\n",
        "  mse =mean_squared_error(y,y_pred) \n",
        "  adam_update_loss.append(mse)"
      ],
      "metadata": {
        "id": "CP_N5ouaLqQ-"
      },
      "execution_count": null,
      "outputs": []
    },
    {
      "cell_type": "code",
      "source": [
        "%matplotlib inline\n",
        "import matplotlib.pyplot as plt\n",
        "plt.figure(figsize=(10,8))\n",
        "plt.grid()\n",
        "plt.plot(adam_update_epoch,adam_update_loss, label='adam update loss')\n",
        "plt.title(\"epoch vs adam update loss\")\n",
        "plt.xlabel(\"epoch number\")\n",
        "plt.ylabel(\"adam update loss\")\n",
        "plt.legend()"
      ],
      "metadata": {
        "colab": {
          "base_uri": "https://localhost:8080/",
          "height": 530
        },
        "id": "SedBhydzPeqq",
        "outputId": "ca523ac4-8467-44df-b766-c3c1f8595770"
      },
      "execution_count": null,
      "outputs": [
        {
          "output_type": "execute_result",
          "data": {
            "text/plain": [
              "<matplotlib.legend.Legend at 0x7f452029ad50>"
            ]
          },
          "metadata": {},
          "execution_count": 109
        },
        {
          "output_type": "display_data",
          "data": {
            "text/plain": [
              "<Figure size 720x576 with 1 Axes>"
            ],
            "image/png": "[encoded data removed]"
          },
          "metadata": {
            "needs_background": "light"
          }
        }
      ]
    },
    {
      "cell_type": "markdown",
      "metadata": {
        "id": "7627cy8YlnYO"
      },
      "source": [
        "<font color='blue'>Comparision plot between epochs and loss with different optimizers.</font>"
      ]
    },
    {
      "cell_type": "code",
      "metadata": {
        "id": "scleSfIXl_bC",
        "colab": {
          "base_uri": "https://localhost:8080/",
          "height": 515
        },
        "outputId": "dd37778b-5c87-439d-f093-95a292cdcd04"
      },
      "source": [
        "#plot the graph between loss vs epochs for all 3 optimizers.\n",
        "%matplotlib inline\n",
        "import matplotlib.pyplot as plt\n",
        "plt.figure(figsize=(10,8))\n",
        "plt.grid()\n",
        "plt.plot(adam_update_epoch,adam_update_loss, label='adam update loss')\n",
        "plt.plot(mom_update_epoch,mom_update_loss, label='mom update loss')\n",
        "plt.plot(vanilla_epoch,vanilla_loss, label=' Vanilla loss')\n",
        "plt.xlabel(\"epoch_number\")\n",
        "plt.ylabel(\"loss\")\n",
        "plt.legend()"
      ],
      "execution_count": null,
      "outputs": [
        {
          "output_type": "execute_result",
          "data": {
            "text/plain": [
              "<matplotlib.legend.Legend at 0x7f4520dd6f90>"
            ]
          },
          "metadata": {},
          "execution_count": 110
        },
        {
          "output_type": "display_data",
          "data": {
            "text/plain": [
              "<Figure size 720x576 with 1 Axes>"
            ],
            "image/png": "[encoded data removed]"
          },
          "metadata": {
            "needs_background": "light"
          }
        }
      ]
    }
  ]
}